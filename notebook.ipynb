{
  "cells": [
    {
      "cell_type": "markdown",
      "metadata": {
        "id": "H9wADwK78DCz"
      },
      "source": [
        "# Proyek Analisis Data: Air Quality in Dongsi\n",
        "- **Nama:** Diva Nisfu Mustika\n",
        "- **Email:** m001d4kx2719@bangkit.academy\n",
        "- **ID Dicoding:** m001d4kx2719"
      ]
    },
    {
      "cell_type": "markdown",
      "metadata": {
        "id": "eE0raob58DC0"
      },
      "source": [
        "## Menentukan Pertanyaan Bisnis"
      ]
    },
    {
      "cell_type": "markdown",
      "metadata": {
        "id": "GmQeQ5YF8DC0"
      },
      "source": [
        "- Pertanyaan 1 : PT Diva Jaya sedang mempertimbangkan untuk meluncurkan produk baru yang bisa memabntu mengurangi tingginya polusi udara. Mereka ingin memahami pola kualitas udara dan distribusi polutan udara selama beberapa tahun terakhir untuk menentukan waktu yang tepat untuk peluncuran produk baru mereka. Kapan waktu yang tepat untuk peluncuran produk baru berdasarkan analisis tren polusi udara di setiap tahunnya?\n",
        "\n",
        "- Pertanyaan 2 : Dalam menentukan waktu peluncuran juga dibutuhkan informasi mengenai tingkat NO2 di udara karena produk yang akan diluncurkan sangat berhubungan denghan itu. Sehingga dibutuhkan informasi Pada bulan apa saja kadar NO2 memiliki kadar tinggi di tahun 2015?"
      ]
    },
    {
      "cell_type": "markdown",
      "metadata": {
        "id": "H-z4QGlO8DC1"
      },
      "source": [
        "## Import Semua Packages/Library yang Digunakan"
      ]
    },
    {
      "cell_type": "code",
      "execution_count": 6,
      "metadata": {
        "id": "FVYwaObI8DC1"
      },
      "outputs": [],
      "source": [
        "import pandas as pd\n",
        "import seaborn as sns\n",
        "import matplotlib.pyplot as plt\n",
        "import calendar\n",
        "import numpy as np"
      ]
    },
    {
      "cell_type": "markdown",
      "metadata": {
        "id": "h_Sh51Xy8DC1"
      },
      "source": [
        "## Data Wrangling"
      ]
    },
    {
      "cell_type": "markdown",
      "metadata": {
        "id": "sXU2GBYu8DC1"
      },
      "source": [
        "### Gathering Data"
      ]
    },
    {
      "cell_type": "markdown",
      "metadata": {
        "id": "EDMVUL6P_W2r"
      },
      "source": [
        "Data yang akan digunakan adalah data Air Quality untuk stasiun Dongsi"
      ]
    },
    {
      "cell_type": "code",
      "execution_count": 7,
      "metadata": {
        "id": "zjCBk1BI8DC1"
      },
      "outputs": [],
      "source": [
        "df = pd.read_csv(\"https://raw.githubusercontent.com/divanm/dashboard-dicoding/master/dashboard/main_data.csv\", sep=',')"
      ]
    },
    {
      "cell_type": "code",
      "execution_count": 8,
      "metadata": {
        "colab": {
          "base_uri": "https://localhost:8080/",
          "height": 444
        },
        "id": "zRVx5e4mFI2S",
        "outputId": "4ab08833-8e56-4dfe-e3d8-a1c107b7b8d1"
      },
      "outputs": [
        {
          "data": {
            "text/html": [
              "<div>\n",
              "<style scoped>\n",
              "    .dataframe tbody tr th:only-of-type {\n",
              "        vertical-align: middle;\n",
              "    }\n",
              "\n",
              "    .dataframe tbody tr th {\n",
              "        vertical-align: top;\n",
              "    }\n",
              "\n",
              "    .dataframe thead th {\n",
              "        text-align: right;\n",
              "    }\n",
              "</style>\n",
              "<table border=\"1\" class=\"dataframe\">\n",
              "  <thead>\n",
              "    <tr style=\"text-align: right;\">\n",
              "      <th></th>\n",
              "      <th>No</th>\n",
              "      <th>year</th>\n",
              "      <th>month</th>\n",
              "      <th>day</th>\n",
              "      <th>hour</th>\n",
              "      <th>PM2.5</th>\n",
              "      <th>PM10</th>\n",
              "      <th>SO2</th>\n",
              "      <th>NO2</th>\n",
              "      <th>CO</th>\n",
              "      <th>O3</th>\n",
              "      <th>TEMP</th>\n",
              "      <th>PRES</th>\n",
              "      <th>DEWP</th>\n",
              "      <th>RAIN</th>\n",
              "      <th>wd</th>\n",
              "      <th>WSPM</th>\n",
              "      <th>station</th>\n",
              "    </tr>\n",
              "  </thead>\n",
              "  <tbody>\n",
              "    <tr>\n",
              "      <th>0</th>\n",
              "      <td>1</td>\n",
              "      <td>2013</td>\n",
              "      <td>3</td>\n",
              "      <td>1</td>\n",
              "      <td>0</td>\n",
              "      <td>9.0</td>\n",
              "      <td>9.0</td>\n",
              "      <td>3.0</td>\n",
              "      <td>17.0</td>\n",
              "      <td>300.0</td>\n",
              "      <td>89.0</td>\n",
              "      <td>-0.5</td>\n",
              "      <td>1024.5</td>\n",
              "      <td>-21.4</td>\n",
              "      <td>0.0</td>\n",
              "      <td>NNW</td>\n",
              "      <td>5.7</td>\n",
              "      <td>Dongsi</td>\n",
              "    </tr>\n",
              "    <tr>\n",
              "      <th>1</th>\n",
              "      <td>2</td>\n",
              "      <td>2013</td>\n",
              "      <td>3</td>\n",
              "      <td>1</td>\n",
              "      <td>1</td>\n",
              "      <td>4.0</td>\n",
              "      <td>4.0</td>\n",
              "      <td>3.0</td>\n",
              "      <td>16.0</td>\n",
              "      <td>300.0</td>\n",
              "      <td>88.0</td>\n",
              "      <td>-0.7</td>\n",
              "      <td>1025.1</td>\n",
              "      <td>-22.1</td>\n",
              "      <td>0.0</td>\n",
              "      <td>NW</td>\n",
              "      <td>3.9</td>\n",
              "      <td>Dongsi</td>\n",
              "    </tr>\n",
              "    <tr>\n",
              "      <th>2</th>\n",
              "      <td>3</td>\n",
              "      <td>2013</td>\n",
              "      <td>3</td>\n",
              "      <td>1</td>\n",
              "      <td>2</td>\n",
              "      <td>7.0</td>\n",
              "      <td>7.0</td>\n",
              "      <td>NaN</td>\n",
              "      <td>17.0</td>\n",
              "      <td>300.0</td>\n",
              "      <td>60.0</td>\n",
              "      <td>-1.2</td>\n",
              "      <td>1025.3</td>\n",
              "      <td>-24.6</td>\n",
              "      <td>0.0</td>\n",
              "      <td>NNW</td>\n",
              "      <td>5.3</td>\n",
              "      <td>Dongsi</td>\n",
              "    </tr>\n",
              "    <tr>\n",
              "      <th>3</th>\n",
              "      <td>4</td>\n",
              "      <td>2013</td>\n",
              "      <td>3</td>\n",
              "      <td>1</td>\n",
              "      <td>3</td>\n",
              "      <td>3.0</td>\n",
              "      <td>3.0</td>\n",
              "      <td>5.0</td>\n",
              "      <td>18.0</td>\n",
              "      <td>NaN</td>\n",
              "      <td>NaN</td>\n",
              "      <td>-1.4</td>\n",
              "      <td>1026.2</td>\n",
              "      <td>-25.5</td>\n",
              "      <td>0.0</td>\n",
              "      <td>N</td>\n",
              "      <td>4.9</td>\n",
              "      <td>Dongsi</td>\n",
              "    </tr>\n",
              "    <tr>\n",
              "      <th>4</th>\n",
              "      <td>5</td>\n",
              "      <td>2013</td>\n",
              "      <td>3</td>\n",
              "      <td>1</td>\n",
              "      <td>4</td>\n",
              "      <td>3.0</td>\n",
              "      <td>3.0</td>\n",
              "      <td>7.0</td>\n",
              "      <td>NaN</td>\n",
              "      <td>200.0</td>\n",
              "      <td>84.0</td>\n",
              "      <td>-1.9</td>\n",
              "      <td>1027.1</td>\n",
              "      <td>-24.5</td>\n",
              "      <td>0.0</td>\n",
              "      <td>NNW</td>\n",
              "      <td>3.2</td>\n",
              "      <td>Dongsi</td>\n",
              "    </tr>\n",
              "    <tr>\n",
              "      <th>...</th>\n",
              "      <td>...</td>\n",
              "      <td>...</td>\n",
              "      <td>...</td>\n",
              "      <td>...</td>\n",
              "      <td>...</td>\n",
              "      <td>...</td>\n",
              "      <td>...</td>\n",
              "      <td>...</td>\n",
              "      <td>...</td>\n",
              "      <td>...</td>\n",
              "      <td>...</td>\n",
              "      <td>...</td>\n",
              "      <td>...</td>\n",
              "      <td>...</td>\n",
              "      <td>...</td>\n",
              "      <td>...</td>\n",
              "      <td>...</td>\n",
              "      <td>...</td>\n",
              "    </tr>\n",
              "    <tr>\n",
              "      <th>35059</th>\n",
              "      <td>35060</td>\n",
              "      <td>2017</td>\n",
              "      <td>2</td>\n",
              "      <td>28</td>\n",
              "      <td>19</td>\n",
              "      <td>16.0</td>\n",
              "      <td>51.0</td>\n",
              "      <td>3.0</td>\n",
              "      <td>29.0</td>\n",
              "      <td>400.0</td>\n",
              "      <td>73.0</td>\n",
              "      <td>12.5</td>\n",
              "      <td>1013.5</td>\n",
              "      <td>-16.2</td>\n",
              "      <td>0.0</td>\n",
              "      <td>NW</td>\n",
              "      <td>2.4</td>\n",
              "      <td>Dongsi</td>\n",
              "    </tr>\n",
              "    <tr>\n",
              "      <th>35060</th>\n",
              "      <td>35061</td>\n",
              "      <td>2017</td>\n",
              "      <td>2</td>\n",
              "      <td>28</td>\n",
              "      <td>20</td>\n",
              "      <td>18.0</td>\n",
              "      <td>45.0</td>\n",
              "      <td>3.0</td>\n",
              "      <td>43.0</td>\n",
              "      <td>500.0</td>\n",
              "      <td>54.0</td>\n",
              "      <td>11.6</td>\n",
              "      <td>1013.6</td>\n",
              "      <td>-15.1</td>\n",
              "      <td>0.0</td>\n",
              "      <td>WNW</td>\n",
              "      <td>0.9</td>\n",
              "      <td>Dongsi</td>\n",
              "    </tr>\n",
              "    <tr>\n",
              "      <th>35061</th>\n",
              "      <td>35062</td>\n",
              "      <td>2017</td>\n",
              "      <td>2</td>\n",
              "      <td>28</td>\n",
              "      <td>21</td>\n",
              "      <td>23.0</td>\n",
              "      <td>58.0</td>\n",
              "      <td>5.0</td>\n",
              "      <td>61.0</td>\n",
              "      <td>700.0</td>\n",
              "      <td>28.0</td>\n",
              "      <td>10.8</td>\n",
              "      <td>1014.2</td>\n",
              "      <td>-13.3</td>\n",
              "      <td>0.0</td>\n",
              "      <td>NW</td>\n",
              "      <td>1.1</td>\n",
              "      <td>Dongsi</td>\n",
              "    </tr>\n",
              "    <tr>\n",
              "      <th>35062</th>\n",
              "      <td>35063</td>\n",
              "      <td>2017</td>\n",
              "      <td>2</td>\n",
              "      <td>28</td>\n",
              "      <td>22</td>\n",
              "      <td>23.0</td>\n",
              "      <td>53.0</td>\n",
              "      <td>9.0</td>\n",
              "      <td>75.0</td>\n",
              "      <td>900.0</td>\n",
              "      <td>15.0</td>\n",
              "      <td>10.5</td>\n",
              "      <td>1014.4</td>\n",
              "      <td>-12.9</td>\n",
              "      <td>0.0</td>\n",
              "      <td>NNW</td>\n",
              "      <td>1.2</td>\n",
              "      <td>Dongsi</td>\n",
              "    </tr>\n",
              "    <tr>\n",
              "      <th>35063</th>\n",
              "      <td>35064</td>\n",
              "      <td>2017</td>\n",
              "      <td>2</td>\n",
              "      <td>28</td>\n",
              "      <td>23</td>\n",
              "      <td>30.0</td>\n",
              "      <td>71.0</td>\n",
              "      <td>11.0</td>\n",
              "      <td>87.0</td>\n",
              "      <td>1200.0</td>\n",
              "      <td>4.0</td>\n",
              "      <td>8.6</td>\n",
              "      <td>1014.1</td>\n",
              "      <td>-15.9</td>\n",
              "      <td>0.0</td>\n",
              "      <td>NNE</td>\n",
              "      <td>1.3</td>\n",
              "      <td>Dongsi</td>\n",
              "    </tr>\n",
              "  </tbody>\n",
              "</table>\n",
              "<p>35064 rows × 18 columns</p>\n",
              "</div>"
            ],
            "text/plain": [
              "          No  year  month  day  hour  PM2.5  PM10   SO2   NO2      CO    O3  \\\n",
              "0          1  2013      3    1     0    9.0   9.0   3.0  17.0   300.0  89.0   \n",
              "1          2  2013      3    1     1    4.0   4.0   3.0  16.0   300.0  88.0   \n",
              "2          3  2013      3    1     2    7.0   7.0   NaN  17.0   300.0  60.0   \n",
              "3          4  2013      3    1     3    3.0   3.0   5.0  18.0     NaN   NaN   \n",
              "4          5  2013      3    1     4    3.0   3.0   7.0   NaN   200.0  84.0   \n",
              "...      ...   ...    ...  ...   ...    ...   ...   ...   ...     ...   ...   \n",
              "35059  35060  2017      2   28    19   16.0  51.0   3.0  29.0   400.0  73.0   \n",
              "35060  35061  2017      2   28    20   18.0  45.0   3.0  43.0   500.0  54.0   \n",
              "35061  35062  2017      2   28    21   23.0  58.0   5.0  61.0   700.0  28.0   \n",
              "35062  35063  2017      2   28    22   23.0  53.0   9.0  75.0   900.0  15.0   \n",
              "35063  35064  2017      2   28    23   30.0  71.0  11.0  87.0  1200.0   4.0   \n",
              "\n",
              "       TEMP    PRES  DEWP  RAIN   wd  WSPM station  \n",
              "0      -0.5  1024.5 -21.4   0.0  NNW   5.7  Dongsi  \n",
              "1      -0.7  1025.1 -22.1   0.0   NW   3.9  Dongsi  \n",
              "2      -1.2  1025.3 -24.6   0.0  NNW   5.3  Dongsi  \n",
              "3      -1.4  1026.2 -25.5   0.0    N   4.9  Dongsi  \n",
              "4      -1.9  1027.1 -24.5   0.0  NNW   3.2  Dongsi  \n",
              "...     ...     ...   ...   ...  ...   ...     ...  \n",
              "35059  12.5  1013.5 -16.2   0.0   NW   2.4  Dongsi  \n",
              "35060  11.6  1013.6 -15.1   0.0  WNW   0.9  Dongsi  \n",
              "35061  10.8  1014.2 -13.3   0.0   NW   1.1  Dongsi  \n",
              "35062  10.5  1014.4 -12.9   0.0  NNW   1.2  Dongsi  \n",
              "35063   8.6  1014.1 -15.9   0.0  NNE   1.3  Dongsi  \n",
              "\n",
              "[35064 rows x 18 columns]"
            ]
          },
          "execution_count": 8,
          "metadata": {},
          "output_type": "execute_result"
        }
      ],
      "source": [
        "df"
      ]
    },
    {
      "cell_type": "markdown",
      "metadata": {
        "id": "7AMXswGv-4fJ"
      },
      "source": []
    },
    {
      "cell_type": "markdown",
      "metadata": {
        "id": "FHSiqaZp8DC1"
      },
      "source": [
        "### Assessing Data"
      ]
    },
    {
      "cell_type": "markdown",
      "metadata": {
        "id": "GBFwK6NVd2WI"
      },
      "source": [
        "### *Memeriksa* tipe data dari tiap kolom"
      ]
    },
    {
      "cell_type": "code",
      "execution_count": 9,
      "metadata": {
        "colab": {
          "base_uri": "https://localhost:8080/"
        },
        "id": "FAz7TgaofboH",
        "outputId": "59f671b9-66f5-4395-8fd1-49445bb0e052"
      },
      "outputs": [
        {
          "name": "stdout",
          "output_type": "stream",
          "text": [
            "<class 'pandas.core.frame.DataFrame'>\n",
            "RangeIndex: 35064 entries, 0 to 35063\n",
            "Data columns (total 18 columns):\n",
            " #   Column   Non-Null Count  Dtype  \n",
            "---  ------   --------------  -----  \n",
            " 0   No       35064 non-null  int64  \n",
            " 1   year     35064 non-null  int64  \n",
            " 2   month    35064 non-null  int64  \n",
            " 3   day      35064 non-null  int64  \n",
            " 4   hour     35064 non-null  int64  \n",
            " 5   PM2.5    34314 non-null  float64\n",
            " 6   PM10     34511 non-null  float64\n",
            " 7   SO2      34401 non-null  float64\n",
            " 8   NO2      33463 non-null  float64\n",
            " 9   CO       31867 non-null  float64\n",
            " 10  O3       34400 non-null  float64\n",
            " 11  TEMP     35044 non-null  float64\n",
            " 12  PRES     35044 non-null  float64\n",
            " 13  DEWP     35044 non-null  float64\n",
            " 14  RAIN     35044 non-null  float64\n",
            " 15  wd       34986 non-null  object \n",
            " 16  WSPM     35050 non-null  float64\n",
            " 17  station  35064 non-null  object \n",
            "dtypes: float64(11), int64(5), object(2)\n",
            "memory usage: 4.8+ MB\n"
          ]
        }
      ],
      "source": [
        "df.info()"
      ]
    },
    {
      "cell_type": "markdown",
      "metadata": {
        "id": "rAOsJNgdflua"
      },
      "source": [
        "Data set ini terdiri dari 17 kolom atau variabel yang mewakili berbagai informasi terkait kualitas udara dan cuaca. Berikut adalah interpretasi dari setiap variabel:\n",
        "\n",
        "1. year: Tahun dari data pada baris ini.\n",
        "2. month: Bulan dari data pada baris ini.\n",
        "3. day: Hari dari data pada baris ini.\n",
        "4. hour: Jam dari data pada baris ini.\n",
        "5. PM2.5: Konsentrasi PM2.5 (partikulat matter dengan diameter kurang dari 2.5 mikrometer) dalam satuan mikrogram per meter kubik (ug/m^3).\n",
        "6. PM10: Konsentrasi PM10 (partikulat matter dengan diameter kurang dari 10 mikrometer) dalam satuan mikrogram per meter kubik (ug/m^3).\n",
        "7. SO2: Konsentrasi SO2 (dioksida sulfur) dalam satuan mikrogram per meter kubik (ug/m^3).\n",
        "8. NO2: Konsentrasi NO2 (dioksida nitrogen) dalam satuan mikrogram per meter kubik (ug/m^3).\n",
        "9. CO: Konsentrasi CO (karbon monoksida) dalam satuan mikrogram per meter kubik (ug/m^3).\n",
        "10. O3: Konsentrasi O3 (ozon) dalam satuan mikrogram per meter kubik (ug/m^3).\n",
        "11. TEMP: Temperatur udara dalam derajat Celsius.\n",
        "12. PRES: Tekanan udara dalam hektopascal (hPa).\n",
        "13. DEWP: Titik embun, yaitu suhu di mana uap air di udara mulai mengembun menjadi cairan, dalam derajat Celsius.\n",
        "14. RAIN: Curah hujan dalam milimeter (mm).\n",
        "15. wd: Arah angin.\n",
        "16. WSPM: Kecepatan angin dalam meter per detik (m/s).\n",
        "17. station: Nama situs pemantauan kualitas udara."
      ]
    },
    {
      "cell_type": "markdown",
      "metadata": {},
      "source": [
        "### Pengecekan duplikat data"
      ]
    },
    {
      "cell_type": "code",
      "execution_count": 10,
      "metadata": {},
      "outputs": [
        {
          "name": "stdout",
          "output_type": "stream",
          "text": [
            "Jumlah duplikasi:  0\n"
          ]
        }
      ],
      "source": [
        "print(\"Jumlah duplikasi: \", df.duplicated().sum())"
      ]
    },
    {
      "cell_type": "markdown",
      "metadata": {},
      "source": [
        "tidak terdapat duplikat data sehingga tidak diperlukan penanganan"
      ]
    },
    {
      "cell_type": "markdown",
      "metadata": {},
      "source": [
        "### Pengecekan Missing Value"
      ]
    },
    {
      "cell_type": "code",
      "execution_count": null,
      "metadata": {},
      "outputs": [],
      "source": [
        "df.isna().sum()"
      ]
    },
    {
      "cell_type": "markdown",
      "metadata": {},
      "source": [
        "terdapat missing value sehingga diperlukan penanganan"
      ]
    },
    {
      "cell_type": "markdown",
      "metadata": {
        "id": "EhN5R4hr8DC1"
      },
      "source": [
        "### Cleaning Data"
      ]
    },
    {
      "cell_type": "markdown",
      "metadata": {
        "id": "0sx1zdiRdyrD"
      },
      "source": [
        "### Handling missing value"
      ]
    },
    {
      "cell_type": "markdown",
      "metadata": {
        "id": "cJYM5WBIATz3"
      },
      "source": [
        "Dari hasil pengecekan terlihat bahwa terdapat permasalahan missing value pada beberapa variabel sehingga dilakukan penanganan"
      ]
    },
    {
      "cell_type": "markdown",
      "metadata": {
        "id": "Y8MZy9gqeKaD"
      },
      "source": [
        "1. Data numerik : Mengisi nilai konstan untuk data numerik yang terdapat missing value dengan fillna()"
      ]
    },
    {
      "cell_type": "code",
      "execution_count": 11,
      "metadata": {
        "colab": {
          "base_uri": "https://localhost:8080/",
          "height": 478
        },
        "id": "NufUyO7zWk54",
        "outputId": "dd7dd272-412e-4f73-a963-67590decbe0e"
      },
      "outputs": [
        {
          "name": "stderr",
          "output_type": "stream",
          "text": [
            "C:\\Users\\Diva\\AppData\\Local\\Temp\\ipykernel_14092\\3857799113.py:2: FutureWarning: The default value of numeric_only in DataFrame.mean is deprecated. In a future version, it will default to False. In addition, specifying 'numeric_only=None' is deprecated. Select only valid columns or specify the value of numeric_only to silence this warning.\n",
            "  df_filled = df.fillna(df.mean())\n"
          ]
        },
        {
          "data": {
            "text/html": [
              "<div>\n",
              "<style scoped>\n",
              "    .dataframe tbody tr th:only-of-type {\n",
              "        vertical-align: middle;\n",
              "    }\n",
              "\n",
              "    .dataframe tbody tr th {\n",
              "        vertical-align: top;\n",
              "    }\n",
              "\n",
              "    .dataframe thead th {\n",
              "        text-align: right;\n",
              "    }\n",
              "</style>\n",
              "<table border=\"1\" class=\"dataframe\">\n",
              "  <thead>\n",
              "    <tr style=\"text-align: right;\">\n",
              "      <th></th>\n",
              "      <th>No</th>\n",
              "      <th>year</th>\n",
              "      <th>month</th>\n",
              "      <th>day</th>\n",
              "      <th>hour</th>\n",
              "      <th>PM2.5</th>\n",
              "      <th>PM10</th>\n",
              "      <th>SO2</th>\n",
              "      <th>NO2</th>\n",
              "      <th>CO</th>\n",
              "      <th>O3</th>\n",
              "      <th>TEMP</th>\n",
              "      <th>PRES</th>\n",
              "      <th>DEWP</th>\n",
              "      <th>RAIN</th>\n",
              "      <th>wd</th>\n",
              "      <th>WSPM</th>\n",
              "      <th>station</th>\n",
              "    </tr>\n",
              "  </thead>\n",
              "  <tbody>\n",
              "    <tr>\n",
              "      <th>0</th>\n",
              "      <td>1</td>\n",
              "      <td>2013</td>\n",
              "      <td>3</td>\n",
              "      <td>1</td>\n",
              "      <td>0</td>\n",
              "      <td>9.0</td>\n",
              "      <td>9.0</td>\n",
              "      <td>3.000000</td>\n",
              "      <td>17.000000</td>\n",
              "      <td>300.000000</td>\n",
              "      <td>89.000000</td>\n",
              "      <td>-0.5</td>\n",
              "      <td>1024.5</td>\n",
              "      <td>-21.4</td>\n",
              "      <td>0.0</td>\n",
              "      <td>NNW</td>\n",
              "      <td>5.7</td>\n",
              "      <td>Dongsi</td>\n",
              "    </tr>\n",
              "    <tr>\n",
              "      <th>1</th>\n",
              "      <td>2</td>\n",
              "      <td>2013</td>\n",
              "      <td>3</td>\n",
              "      <td>1</td>\n",
              "      <td>1</td>\n",
              "      <td>4.0</td>\n",
              "      <td>4.0</td>\n",
              "      <td>3.000000</td>\n",
              "      <td>16.000000</td>\n",
              "      <td>300.000000</td>\n",
              "      <td>88.000000</td>\n",
              "      <td>-0.7</td>\n",
              "      <td>1025.1</td>\n",
              "      <td>-22.1</td>\n",
              "      <td>0.0</td>\n",
              "      <td>NW</td>\n",
              "      <td>3.9</td>\n",
              "      <td>Dongsi</td>\n",
              "    </tr>\n",
              "    <tr>\n",
              "      <th>2</th>\n",
              "      <td>3</td>\n",
              "      <td>2013</td>\n",
              "      <td>3</td>\n",
              "      <td>1</td>\n",
              "      <td>2</td>\n",
              "      <td>7.0</td>\n",
              "      <td>7.0</td>\n",
              "      <td>18.531107</td>\n",
              "      <td>17.000000</td>\n",
              "      <td>300.000000</td>\n",
              "      <td>60.000000</td>\n",
              "      <td>-1.2</td>\n",
              "      <td>1025.3</td>\n",
              "      <td>-24.6</td>\n",
              "      <td>0.0</td>\n",
              "      <td>NNW</td>\n",
              "      <td>5.3</td>\n",
              "      <td>Dongsi</td>\n",
              "    </tr>\n",
              "    <tr>\n",
              "      <th>3</th>\n",
              "      <td>4</td>\n",
              "      <td>2013</td>\n",
              "      <td>3</td>\n",
              "      <td>1</td>\n",
              "      <td>3</td>\n",
              "      <td>3.0</td>\n",
              "      <td>3.0</td>\n",
              "      <td>5.000000</td>\n",
              "      <td>18.000000</td>\n",
              "      <td>1330.069131</td>\n",
              "      <td>57.210637</td>\n",
              "      <td>-1.4</td>\n",
              "      <td>1026.2</td>\n",
              "      <td>-25.5</td>\n",
              "      <td>0.0</td>\n",
              "      <td>N</td>\n",
              "      <td>4.9</td>\n",
              "      <td>Dongsi</td>\n",
              "    </tr>\n",
              "    <tr>\n",
              "      <th>4</th>\n",
              "      <td>5</td>\n",
              "      <td>2013</td>\n",
              "      <td>3</td>\n",
              "      <td>1</td>\n",
              "      <td>4</td>\n",
              "      <td>3.0</td>\n",
              "      <td>3.0</td>\n",
              "      <td>7.000000</td>\n",
              "      <td>53.699443</td>\n",
              "      <td>200.000000</td>\n",
              "      <td>84.000000</td>\n",
              "      <td>-1.9</td>\n",
              "      <td>1027.1</td>\n",
              "      <td>-24.5</td>\n",
              "      <td>0.0</td>\n",
              "      <td>NNW</td>\n",
              "      <td>3.2</td>\n",
              "      <td>Dongsi</td>\n",
              "    </tr>\n",
              "    <tr>\n",
              "      <th>...</th>\n",
              "      <td>...</td>\n",
              "      <td>...</td>\n",
              "      <td>...</td>\n",
              "      <td>...</td>\n",
              "      <td>...</td>\n",
              "      <td>...</td>\n",
              "      <td>...</td>\n",
              "      <td>...</td>\n",
              "      <td>...</td>\n",
              "      <td>...</td>\n",
              "      <td>...</td>\n",
              "      <td>...</td>\n",
              "      <td>...</td>\n",
              "      <td>...</td>\n",
              "      <td>...</td>\n",
              "      <td>...</td>\n",
              "      <td>...</td>\n",
              "      <td>...</td>\n",
              "    </tr>\n",
              "    <tr>\n",
              "      <th>35059</th>\n",
              "      <td>35060</td>\n",
              "      <td>2017</td>\n",
              "      <td>2</td>\n",
              "      <td>28</td>\n",
              "      <td>19</td>\n",
              "      <td>16.0</td>\n",
              "      <td>51.0</td>\n",
              "      <td>3.000000</td>\n",
              "      <td>29.000000</td>\n",
              "      <td>400.000000</td>\n",
              "      <td>73.000000</td>\n",
              "      <td>12.5</td>\n",
              "      <td>1013.5</td>\n",
              "      <td>-16.2</td>\n",
              "      <td>0.0</td>\n",
              "      <td>NW</td>\n",
              "      <td>2.4</td>\n",
              "      <td>Dongsi</td>\n",
              "    </tr>\n",
              "    <tr>\n",
              "      <th>35060</th>\n",
              "      <td>35061</td>\n",
              "      <td>2017</td>\n",
              "      <td>2</td>\n",
              "      <td>28</td>\n",
              "      <td>20</td>\n",
              "      <td>18.0</td>\n",
              "      <td>45.0</td>\n",
              "      <td>3.000000</td>\n",
              "      <td>43.000000</td>\n",
              "      <td>500.000000</td>\n",
              "      <td>54.000000</td>\n",
              "      <td>11.6</td>\n",
              "      <td>1013.6</td>\n",
              "      <td>-15.1</td>\n",
              "      <td>0.0</td>\n",
              "      <td>WNW</td>\n",
              "      <td>0.9</td>\n",
              "      <td>Dongsi</td>\n",
              "    </tr>\n",
              "    <tr>\n",
              "      <th>35061</th>\n",
              "      <td>35062</td>\n",
              "      <td>2017</td>\n",
              "      <td>2</td>\n",
              "      <td>28</td>\n",
              "      <td>21</td>\n",
              "      <td>23.0</td>\n",
              "      <td>58.0</td>\n",
              "      <td>5.000000</td>\n",
              "      <td>61.000000</td>\n",
              "      <td>700.000000</td>\n",
              "      <td>28.000000</td>\n",
              "      <td>10.8</td>\n",
              "      <td>1014.2</td>\n",
              "      <td>-13.3</td>\n",
              "      <td>0.0</td>\n",
              "      <td>NW</td>\n",
              "      <td>1.1</td>\n",
              "      <td>Dongsi</td>\n",
              "    </tr>\n",
              "    <tr>\n",
              "      <th>35062</th>\n",
              "      <td>35063</td>\n",
              "      <td>2017</td>\n",
              "      <td>2</td>\n",
              "      <td>28</td>\n",
              "      <td>22</td>\n",
              "      <td>23.0</td>\n",
              "      <td>53.0</td>\n",
              "      <td>9.000000</td>\n",
              "      <td>75.000000</td>\n",
              "      <td>900.000000</td>\n",
              "      <td>15.000000</td>\n",
              "      <td>10.5</td>\n",
              "      <td>1014.4</td>\n",
              "      <td>-12.9</td>\n",
              "      <td>0.0</td>\n",
              "      <td>NNW</td>\n",
              "      <td>1.2</td>\n",
              "      <td>Dongsi</td>\n",
              "    </tr>\n",
              "    <tr>\n",
              "      <th>35063</th>\n",
              "      <td>35064</td>\n",
              "      <td>2017</td>\n",
              "      <td>2</td>\n",
              "      <td>28</td>\n",
              "      <td>23</td>\n",
              "      <td>30.0</td>\n",
              "      <td>71.0</td>\n",
              "      <td>11.000000</td>\n",
              "      <td>87.000000</td>\n",
              "      <td>1200.000000</td>\n",
              "      <td>4.000000</td>\n",
              "      <td>8.6</td>\n",
              "      <td>1014.1</td>\n",
              "      <td>-15.9</td>\n",
              "      <td>0.0</td>\n",
              "      <td>NNE</td>\n",
              "      <td>1.3</td>\n",
              "      <td>Dongsi</td>\n",
              "    </tr>\n",
              "  </tbody>\n",
              "</table>\n",
              "<p>35064 rows × 18 columns</p>\n",
              "</div>"
            ],
            "text/plain": [
              "          No  year  month  day  hour  PM2.5  PM10        SO2        NO2  \\\n",
              "0          1  2013      3    1     0    9.0   9.0   3.000000  17.000000   \n",
              "1          2  2013      3    1     1    4.0   4.0   3.000000  16.000000   \n",
              "2          3  2013      3    1     2    7.0   7.0  18.531107  17.000000   \n",
              "3          4  2013      3    1     3    3.0   3.0   5.000000  18.000000   \n",
              "4          5  2013      3    1     4    3.0   3.0   7.000000  53.699443   \n",
              "...      ...   ...    ...  ...   ...    ...   ...        ...        ...   \n",
              "35059  35060  2017      2   28    19   16.0  51.0   3.000000  29.000000   \n",
              "35060  35061  2017      2   28    20   18.0  45.0   3.000000  43.000000   \n",
              "35061  35062  2017      2   28    21   23.0  58.0   5.000000  61.000000   \n",
              "35062  35063  2017      2   28    22   23.0  53.0   9.000000  75.000000   \n",
              "35063  35064  2017      2   28    23   30.0  71.0  11.000000  87.000000   \n",
              "\n",
              "                CO         O3  TEMP    PRES  DEWP  RAIN   wd  WSPM station  \n",
              "0       300.000000  89.000000  -0.5  1024.5 -21.4   0.0  NNW   5.7  Dongsi  \n",
              "1       300.000000  88.000000  -0.7  1025.1 -22.1   0.0   NW   3.9  Dongsi  \n",
              "2       300.000000  60.000000  -1.2  1025.3 -24.6   0.0  NNW   5.3  Dongsi  \n",
              "3      1330.069131  57.210637  -1.4  1026.2 -25.5   0.0    N   4.9  Dongsi  \n",
              "4       200.000000  84.000000  -1.9  1027.1 -24.5   0.0  NNW   3.2  Dongsi  \n",
              "...            ...        ...   ...     ...   ...   ...  ...   ...     ...  \n",
              "35059   400.000000  73.000000  12.5  1013.5 -16.2   0.0   NW   2.4  Dongsi  \n",
              "35060   500.000000  54.000000  11.6  1013.6 -15.1   0.0  WNW   0.9  Dongsi  \n",
              "35061   700.000000  28.000000  10.8  1014.2 -13.3   0.0   NW   1.1  Dongsi  \n",
              "35062   900.000000  15.000000  10.5  1014.4 -12.9   0.0  NNW   1.2  Dongsi  \n",
              "35063  1200.000000   4.000000   8.6  1014.1 -15.9   0.0  NNE   1.3  Dongsi  \n",
              "\n",
              "[35064 rows x 18 columns]"
            ]
          },
          "execution_count": 11,
          "metadata": {},
          "output_type": "execute_result"
        }
      ],
      "source": [
        "# Fill missing values with the mean of each column\n",
        "df_filled = df.fillna(df.mean())\n",
        "df_filled"
      ]
    },
    {
      "cell_type": "code",
      "execution_count": 12,
      "metadata": {
        "colab": {
          "base_uri": "https://localhost:8080/"
        },
        "id": "miQk-yWCXWrq",
        "outputId": "15ea5f89-277d-4938-c423-da60e1e733f2"
      },
      "outputs": [
        {
          "data": {
            "text/plain": [
              "No          0\n",
              "year        0\n",
              "month       0\n",
              "day         0\n",
              "hour        0\n",
              "PM2.5       0\n",
              "PM10        0\n",
              "SO2         0\n",
              "NO2         0\n",
              "CO          0\n",
              "O3          0\n",
              "TEMP        0\n",
              "PRES        0\n",
              "DEWP        0\n",
              "RAIN        0\n",
              "wd         78\n",
              "WSPM        0\n",
              "station     0\n",
              "dtype: int64"
            ]
          },
          "execution_count": 12,
          "metadata": {},
          "output_type": "execute_result"
        }
      ],
      "source": [
        "df_filled.isna().sum()"
      ]
    },
    {
      "cell_type": "markdown",
      "metadata": {
        "id": "eBEaBCP5ap1c"
      },
      "source": [
        "2. Data kategorik : mengisi missing value dengan nilai yang sering muncul untuk data kategorik menggunakann fillna()"
      ]
    },
    {
      "cell_type": "code",
      "execution_count": 13,
      "metadata": {
        "id": "OPPYq9j6YudZ"
      },
      "outputs": [],
      "source": [
        "# Fill missing values with the mode of each column\n",
        "df_filled['wd'].fillna(df_filled['wd'].mode()[0], inplace=True)"
      ]
    },
    {
      "cell_type": "code",
      "execution_count": 14,
      "metadata": {
        "colab": {
          "base_uri": "https://localhost:8080/"
        },
        "id": "AUZ80WLmY0r7",
        "outputId": "0accd08f-3627-4119-b67c-2bfb9856e6ae"
      },
      "outputs": [
        {
          "data": {
            "text/plain": [
              "No         0\n",
              "year       0\n",
              "month      0\n",
              "day        0\n",
              "hour       0\n",
              "PM2.5      0\n",
              "PM10       0\n",
              "SO2        0\n",
              "NO2        0\n",
              "CO         0\n",
              "O3         0\n",
              "TEMP       0\n",
              "PRES       0\n",
              "DEWP       0\n",
              "RAIN       0\n",
              "wd         0\n",
              "WSPM       0\n",
              "station    0\n",
              "dtype: int64"
            ]
          },
          "execution_count": 14,
          "metadata": {},
          "output_type": "execute_result"
        }
      ],
      "source": [
        "df_filled.isna().sum()"
      ]
    },
    {
      "cell_type": "markdown",
      "metadata": {
        "id": "ooy9Xx28B1Yb"
      },
      "source": [
        "Dari hasil penanganan terlihat bahwa semua missing value berhasil ditangani"
      ]
    },
    {
      "cell_type": "markdown",
      "metadata": {
        "id": "gp-Y6wU38DC1"
      },
      "source": [
        "## Exploratory Data Analysis (EDA)"
      ]
    },
    {
      "cell_type": "markdown",
      "metadata": {
        "id": "ydbK3ubDgeek"
      },
      "source": [
        "## Explore Parameter Statistik"
      ]
    },
    {
      "cell_type": "code",
      "execution_count": 15,
      "metadata": {
        "colab": {
          "base_uri": "https://localhost:8080/",
          "height": 414
        },
        "id": "bPDcQKhJghz2",
        "outputId": "f1940e3e-00c1-4abf-ea4d-1522fa0425d4"
      },
      "outputs": [
        {
          "data": {
            "text/html": [
              "<div>\n",
              "<style scoped>\n",
              "    .dataframe tbody tr th:only-of-type {\n",
              "        vertical-align: middle;\n",
              "    }\n",
              "\n",
              "    .dataframe tbody tr th {\n",
              "        vertical-align: top;\n",
              "    }\n",
              "\n",
              "    .dataframe thead th {\n",
              "        text-align: right;\n",
              "    }\n",
              "</style>\n",
              "<table border=\"1\" class=\"dataframe\">\n",
              "  <thead>\n",
              "    <tr style=\"text-align: right;\">\n",
              "      <th></th>\n",
              "      <th>No</th>\n",
              "      <th>year</th>\n",
              "      <th>month</th>\n",
              "      <th>day</th>\n",
              "      <th>hour</th>\n",
              "      <th>PM2.5</th>\n",
              "      <th>PM10</th>\n",
              "      <th>SO2</th>\n",
              "      <th>NO2</th>\n",
              "      <th>CO</th>\n",
              "      <th>O3</th>\n",
              "      <th>TEMP</th>\n",
              "      <th>PRES</th>\n",
              "      <th>DEWP</th>\n",
              "      <th>RAIN</th>\n",
              "      <th>wd</th>\n",
              "      <th>WSPM</th>\n",
              "      <th>station</th>\n",
              "    </tr>\n",
              "  </thead>\n",
              "  <tbody>\n",
              "    <tr>\n",
              "      <th>count</th>\n",
              "      <td>35064.000000</td>\n",
              "      <td>35064.000000</td>\n",
              "      <td>35064.000000</td>\n",
              "      <td>35064.000000</td>\n",
              "      <td>35064.000000</td>\n",
              "      <td>35064.000000</td>\n",
              "      <td>35064.000000</td>\n",
              "      <td>35064.000000</td>\n",
              "      <td>35064.000000</td>\n",
              "      <td>35064.000000</td>\n",
              "      <td>35064.000000</td>\n",
              "      <td>35064.00000</td>\n",
              "      <td>35064.000000</td>\n",
              "      <td>35064.000000</td>\n",
              "      <td>35064.000000</td>\n",
              "      <td>35064</td>\n",
              "      <td>35064.000000</td>\n",
              "      <td>35064</td>\n",
              "    </tr>\n",
              "    <tr>\n",
              "      <th>unique</th>\n",
              "      <td>NaN</td>\n",
              "      <td>NaN</td>\n",
              "      <td>NaN</td>\n",
              "      <td>NaN</td>\n",
              "      <td>NaN</td>\n",
              "      <td>NaN</td>\n",
              "      <td>NaN</td>\n",
              "      <td>NaN</td>\n",
              "      <td>NaN</td>\n",
              "      <td>NaN</td>\n",
              "      <td>NaN</td>\n",
              "      <td>NaN</td>\n",
              "      <td>NaN</td>\n",
              "      <td>NaN</td>\n",
              "      <td>NaN</td>\n",
              "      <td>16</td>\n",
              "      <td>NaN</td>\n",
              "      <td>1</td>\n",
              "    </tr>\n",
              "    <tr>\n",
              "      <th>top</th>\n",
              "      <td>NaN</td>\n",
              "      <td>NaN</td>\n",
              "      <td>NaN</td>\n",
              "      <td>NaN</td>\n",
              "      <td>NaN</td>\n",
              "      <td>NaN</td>\n",
              "      <td>NaN</td>\n",
              "      <td>NaN</td>\n",
              "      <td>NaN</td>\n",
              "      <td>NaN</td>\n",
              "      <td>NaN</td>\n",
              "      <td>NaN</td>\n",
              "      <td>NaN</td>\n",
              "      <td>NaN</td>\n",
              "      <td>NaN</td>\n",
              "      <td>ENE</td>\n",
              "      <td>NaN</td>\n",
              "      <td>Dongsi</td>\n",
              "    </tr>\n",
              "    <tr>\n",
              "      <th>freq</th>\n",
              "      <td>NaN</td>\n",
              "      <td>NaN</td>\n",
              "      <td>NaN</td>\n",
              "      <td>NaN</td>\n",
              "      <td>NaN</td>\n",
              "      <td>NaN</td>\n",
              "      <td>NaN</td>\n",
              "      <td>NaN</td>\n",
              "      <td>NaN</td>\n",
              "      <td>NaN</td>\n",
              "      <td>NaN</td>\n",
              "      <td>NaN</td>\n",
              "      <td>NaN</td>\n",
              "      <td>NaN</td>\n",
              "      <td>NaN</td>\n",
              "      <td>3939</td>\n",
              "      <td>NaN</td>\n",
              "      <td>35064</td>\n",
              "    </tr>\n",
              "    <tr>\n",
              "      <th>mean</th>\n",
              "      <td>17532.500000</td>\n",
              "      <td>2014.662560</td>\n",
              "      <td>6.522930</td>\n",
              "      <td>15.729637</td>\n",
              "      <td>11.500000</td>\n",
              "      <td>86.194297</td>\n",
              "      <td>110.336742</td>\n",
              "      <td>18.531107</td>\n",
              "      <td>53.699443</td>\n",
              "      <td>1330.069131</td>\n",
              "      <td>57.210637</td>\n",
              "      <td>13.67149</td>\n",
              "      <td>1012.547419</td>\n",
              "      <td>2.447535</td>\n",
              "      <td>0.064020</td>\n",
              "      <td>NaN</td>\n",
              "      <td>1.860785</td>\n",
              "      <td>NaN</td>\n",
              "    </tr>\n",
              "    <tr>\n",
              "      <th>std</th>\n",
              "      <td>10122.249256</td>\n",
              "      <td>1.177213</td>\n",
              "      <td>3.448752</td>\n",
              "      <td>8.800218</td>\n",
              "      <td>6.922285</td>\n",
              "      <td>85.644198</td>\n",
              "      <td>97.442239</td>\n",
              "      <td>22.688062</td>\n",
              "      <td>33.174871</td>\n",
              "      <td>1135.697130</td>\n",
              "      <td>57.481150</td>\n",
              "      <td>11.45515</td>\n",
              "      <td>10.263131</td>\n",
              "      <td>13.806757</td>\n",
              "      <td>0.786058</td>\n",
              "      <td>NaN</td>\n",
              "      <td>1.280113</td>\n",
              "      <td>NaN</td>\n",
              "    </tr>\n",
              "    <tr>\n",
              "      <th>min</th>\n",
              "      <td>1.000000</td>\n",
              "      <td>2013.000000</td>\n",
              "      <td>1.000000</td>\n",
              "      <td>1.000000</td>\n",
              "      <td>0.000000</td>\n",
              "      <td>3.000000</td>\n",
              "      <td>2.000000</td>\n",
              "      <td>0.285600</td>\n",
              "      <td>2.000000</td>\n",
              "      <td>100.000000</td>\n",
              "      <td>0.642600</td>\n",
              "      <td>-16.80000</td>\n",
              "      <td>987.100000</td>\n",
              "      <td>-35.300000</td>\n",
              "      <td>0.000000</td>\n",
              "      <td>NaN</td>\n",
              "      <td>0.000000</td>\n",
              "      <td>NaN</td>\n",
              "    </tr>\n",
              "    <tr>\n",
              "      <th>25%</th>\n",
              "      <td>8766.750000</td>\n",
              "      <td>2014.000000</td>\n",
              "      <td>4.000000</td>\n",
              "      <td>8.000000</td>\n",
              "      <td>5.750000</td>\n",
              "      <td>23.000000</td>\n",
              "      <td>38.000000</td>\n",
              "      <td>4.000000</td>\n",
              "      <td>28.000000</td>\n",
              "      <td>600.000000</td>\n",
              "      <td>13.000000</td>\n",
              "      <td>3.10000</td>\n",
              "      <td>1004.000000</td>\n",
              "      <td>-8.800000</td>\n",
              "      <td>0.000000</td>\n",
              "      <td>NaN</td>\n",
              "      <td>1.000000</td>\n",
              "      <td>NaN</td>\n",
              "    </tr>\n",
              "    <tr>\n",
              "      <th>50%</th>\n",
              "      <td>17532.500000</td>\n",
              "      <td>2015.000000</td>\n",
              "      <td>7.000000</td>\n",
              "      <td>16.000000</td>\n",
              "      <td>11.500000</td>\n",
              "      <td>63.000000</td>\n",
              "      <td>88.000000</td>\n",
              "      <td>10.000000</td>\n",
              "      <td>49.000000</td>\n",
              "      <td>1100.000000</td>\n",
              "      <td>46.000000</td>\n",
              "      <td>14.60000</td>\n",
              "      <td>1012.200000</td>\n",
              "      <td>3.000000</td>\n",
              "      <td>0.000000</td>\n",
              "      <td>NaN</td>\n",
              "      <td>1.500000</td>\n",
              "      <td>NaN</td>\n",
              "    </tr>\n",
              "    <tr>\n",
              "      <th>75%</th>\n",
              "      <td>26298.250000</td>\n",
              "      <td>2016.000000</td>\n",
              "      <td>10.000000</td>\n",
              "      <td>23.000000</td>\n",
              "      <td>17.250000</td>\n",
              "      <td>117.000000</td>\n",
              "      <td>150.000000</td>\n",
              "      <td>24.000000</td>\n",
              "      <td>72.000000</td>\n",
              "      <td>1600.000000</td>\n",
              "      <td>80.000000</td>\n",
              "      <td>23.50000</td>\n",
              "      <td>1020.900000</td>\n",
              "      <td>15.000000</td>\n",
              "      <td>0.000000</td>\n",
              "      <td>NaN</td>\n",
              "      <td>2.400000</td>\n",
              "      <td>NaN</td>\n",
              "    </tr>\n",
              "    <tr>\n",
              "      <th>max</th>\n",
              "      <td>35064.000000</td>\n",
              "      <td>2017.000000</td>\n",
              "      <td>12.000000</td>\n",
              "      <td>31.000000</td>\n",
              "      <td>23.000000</td>\n",
              "      <td>737.000000</td>\n",
              "      <td>955.000000</td>\n",
              "      <td>300.000000</td>\n",
              "      <td>258.000000</td>\n",
              "      <td>10000.000000</td>\n",
              "      <td>1071.000000</td>\n",
              "      <td>41.10000</td>\n",
              "      <td>1042.000000</td>\n",
              "      <td>28.800000</td>\n",
              "      <td>46.400000</td>\n",
              "      <td>NaN</td>\n",
              "      <td>10.500000</td>\n",
              "      <td>NaN</td>\n",
              "    </tr>\n",
              "  </tbody>\n",
              "</table>\n",
              "</div>"
            ],
            "text/plain": [
              "                  No          year         month           day          hour  \\\n",
              "count   35064.000000  35064.000000  35064.000000  35064.000000  35064.000000   \n",
              "unique           NaN           NaN           NaN           NaN           NaN   \n",
              "top              NaN           NaN           NaN           NaN           NaN   \n",
              "freq             NaN           NaN           NaN           NaN           NaN   \n",
              "mean    17532.500000   2014.662560      6.522930     15.729637     11.500000   \n",
              "std     10122.249256      1.177213      3.448752      8.800218      6.922285   \n",
              "min         1.000000   2013.000000      1.000000      1.000000      0.000000   \n",
              "25%      8766.750000   2014.000000      4.000000      8.000000      5.750000   \n",
              "50%     17532.500000   2015.000000      7.000000     16.000000     11.500000   \n",
              "75%     26298.250000   2016.000000     10.000000     23.000000     17.250000   \n",
              "max     35064.000000   2017.000000     12.000000     31.000000     23.000000   \n",
              "\n",
              "               PM2.5          PM10           SO2           NO2            CO  \\\n",
              "count   35064.000000  35064.000000  35064.000000  35064.000000  35064.000000   \n",
              "unique           NaN           NaN           NaN           NaN           NaN   \n",
              "top              NaN           NaN           NaN           NaN           NaN   \n",
              "freq             NaN           NaN           NaN           NaN           NaN   \n",
              "mean       86.194297    110.336742     18.531107     53.699443   1330.069131   \n",
              "std        85.644198     97.442239     22.688062     33.174871   1135.697130   \n",
              "min         3.000000      2.000000      0.285600      2.000000    100.000000   \n",
              "25%        23.000000     38.000000      4.000000     28.000000    600.000000   \n",
              "50%        63.000000     88.000000     10.000000     49.000000   1100.000000   \n",
              "75%       117.000000    150.000000     24.000000     72.000000   1600.000000   \n",
              "max       737.000000    955.000000    300.000000    258.000000  10000.000000   \n",
              "\n",
              "                  O3         TEMP          PRES          DEWP          RAIN  \\\n",
              "count   35064.000000  35064.00000  35064.000000  35064.000000  35064.000000   \n",
              "unique           NaN          NaN           NaN           NaN           NaN   \n",
              "top              NaN          NaN           NaN           NaN           NaN   \n",
              "freq             NaN          NaN           NaN           NaN           NaN   \n",
              "mean       57.210637     13.67149   1012.547419      2.447535      0.064020   \n",
              "std        57.481150     11.45515     10.263131     13.806757      0.786058   \n",
              "min         0.642600    -16.80000    987.100000    -35.300000      0.000000   \n",
              "25%        13.000000      3.10000   1004.000000     -8.800000      0.000000   \n",
              "50%        46.000000     14.60000   1012.200000      3.000000      0.000000   \n",
              "75%        80.000000     23.50000   1020.900000     15.000000      0.000000   \n",
              "max      1071.000000     41.10000   1042.000000     28.800000     46.400000   \n",
              "\n",
              "           wd          WSPM station  \n",
              "count   35064  35064.000000   35064  \n",
              "unique     16           NaN       1  \n",
              "top       ENE           NaN  Dongsi  \n",
              "freq     3939           NaN   35064  \n",
              "mean      NaN      1.860785     NaN  \n",
              "std       NaN      1.280113     NaN  \n",
              "min       NaN      0.000000     NaN  \n",
              "25%       NaN      1.000000     NaN  \n",
              "50%       NaN      1.500000     NaN  \n",
              "75%       NaN      2.400000     NaN  \n",
              "max       NaN     10.500000     NaN  "
            ]
          },
          "execution_count": 15,
          "metadata": {},
          "output_type": "execute_result"
        }
      ],
      "source": [
        "df_filled.describe(include=\"all\")"
      ]
    },
    {
      "cell_type": "code",
      "execution_count": 16,
      "metadata": {
        "colab": {
          "base_uri": "https://localhost:8080/",
          "height": 626
        },
        "id": "yN4s-FJOZVaQ",
        "outputId": "7589361f-8176-4eea-820b-c8a2896fe0a7"
      },
      "outputs": [
        {
          "data": {
            "text/plain": [
              "array([[<Axes: title={'center': 'No'}>, <Axes: title={'center': 'year'}>,\n",
              "        <Axes: title={'center': 'month'}>,\n",
              "        <Axes: title={'center': 'day'}>],\n",
              "       [<Axes: title={'center': 'hour'}>,\n",
              "        <Axes: title={'center': 'PM2.5'}>,\n",
              "        <Axes: title={'center': 'PM10'}>,\n",
              "        <Axes: title={'center': 'SO2'}>],\n",
              "       [<Axes: title={'center': 'NO2'}>, <Axes: title={'center': 'CO'}>,\n",
              "        <Axes: title={'center': 'O3'}>, <Axes: title={'center': 'TEMP'}>],\n",
              "       [<Axes: title={'center': 'PRES'}>,\n",
              "        <Axes: title={'center': 'DEWP'}>,\n",
              "        <Axes: title={'center': 'RAIN'}>,\n",
              "        <Axes: title={'center': 'WSPM'}>]], dtype=object)"
            ]
          },
          "execution_count": 16,
          "metadata": {},
          "output_type": "execute_result"
        },
        {
          "data": {
            "image/png": "[encoded data removed]",
            "text/plain": [
              "<Figure size 640x480 with 16 Axes>"
            ]
          },
          "metadata": {},
          "output_type": "display_data"
        }
      ],
      "source": [
        "df_filled.hist()"
      ]
    },
    {
      "cell_type": "code",
      "execution_count": 17,
      "metadata": {
        "colab": {
          "base_uri": "https://localhost:8080/",
          "height": 480
        },
        "id": "aRxXGlQpg7wi",
        "outputId": "e2182793-60fe-4e45-86c8-5f496744f9d9"
      },
      "outputs": [
        {
          "name": "stderr",
          "output_type": "stream",
          "text": [
            "C:\\Users\\Diva\\AppData\\Local\\Temp\\ipykernel_14092\\401203910.py:1: FutureWarning: The default value of numeric_only in DataFrame.corr is deprecated. In a future version, it will default to False. Select only valid columns or specify the value of numeric_only to silence this warning.\n",
            "  df_filled.corr()\n"
          ]
        },
        {
          "data": {
            "text/html": [
              "<div>\n",
              "<style scoped>\n",
              "    .dataframe tbody tr th:only-of-type {\n",
              "        vertical-align: middle;\n",
              "    }\n",
              "\n",
              "    .dataframe tbody tr th {\n",
              "        vertical-align: top;\n",
              "    }\n",
              "\n",
              "    .dataframe thead th {\n",
              "        text-align: right;\n",
              "    }\n",
              "</style>\n",
              "<table border=\"1\" class=\"dataframe\">\n",
              "  <thead>\n",
              "    <tr style=\"text-align: right;\">\n",
              "      <th></th>\n",
              "      <th>No</th>\n",
              "      <th>year</th>\n",
              "      <th>month</th>\n",
              "      <th>day</th>\n",
              "      <th>hour</th>\n",
              "      <th>PM2.5</th>\n",
              "      <th>PM10</th>\n",
              "      <th>SO2</th>\n",
              "      <th>NO2</th>\n",
              "      <th>CO</th>\n",
              "      <th>O3</th>\n",
              "      <th>TEMP</th>\n",
              "      <th>PRES</th>\n",
              "      <th>DEWP</th>\n",
              "      <th>RAIN</th>\n",
              "      <th>WSPM</th>\n",
              "    </tr>\n",
              "  </thead>\n",
              "  <tbody>\n",
              "    <tr>\n",
              "      <th>No</th>\n",
              "      <td>1.000000</td>\n",
              "      <td>9.695331e-01</td>\n",
              "      <td>4.318051e-02</td>\n",
              "      <td>1.776442e-02</td>\n",
              "      <td>6.838683e-04</td>\n",
              "      <td>-0.003032</td>\n",
              "      <td>0.003703</td>\n",
              "      <td>-0.241270</td>\n",
              "      <td>-0.036219</td>\n",
              "      <td>0.006691</td>\n",
              "      <td>-0.093319</td>\n",
              "      <td>-0.119018</td>\n",
              "      <td>0.172835</td>\n",
              "      <td>-0.088817</td>\n",
              "      <td>0.008390</td>\n",
              "      <td>-0.003582</td>\n",
              "    </tr>\n",
              "    <tr>\n",
              "      <th>year</th>\n",
              "      <td>0.969533</td>\n",
              "      <td>1.000000e+00</td>\n",
              "      <td>-2.020099e-01</td>\n",
              "      <td>-5.569082e-03</td>\n",
              "      <td>1.164482e-15</td>\n",
              "      <td>-0.006831</td>\n",
              "      <td>0.004563</td>\n",
              "      <td>-0.191304</td>\n",
              "      <td>-0.061168</td>\n",
              "      <td>-0.010159</td>\n",
              "      <td>-0.063749</td>\n",
              "      <td>-0.148766</td>\n",
              "      <td>0.173583</td>\n",
              "      <td>-0.151710</td>\n",
              "      <td>0.004368</td>\n",
              "      <td>0.027649</td>\n",
              "    </tr>\n",
              "    <tr>\n",
              "      <th>month</th>\n",
              "      <td>0.043181</td>\n",
              "      <td>-2.020099e-01</td>\n",
              "      <td>1.000000e+00</td>\n",
              "      <td>1.052232e-02</td>\n",
              "      <td>4.724770e-16</td>\n",
              "      <td>0.015151</td>\n",
              "      <td>-0.005911</td>\n",
              "      <td>-0.186641</td>\n",
              "      <td>0.105107</td>\n",
              "      <td>0.068636</td>\n",
              "      <td>-0.112419</td>\n",
              "      <td>0.132503</td>\n",
              "      <td>-0.021161</td>\n",
              "      <td>0.265251</td>\n",
              "      <td>0.016542</td>\n",
              "      <td>-0.126871</td>\n",
              "    </tr>\n",
              "    <tr>\n",
              "      <th>day</th>\n",
              "      <td>0.017764</td>\n",
              "      <td>-5.569082e-03</td>\n",
              "      <td>1.052232e-02</td>\n",
              "      <td>1.000000e+00</td>\n",
              "      <td>-4.489555e-17</td>\n",
              "      <td>0.002489</td>\n",
              "      <td>0.023555</td>\n",
              "      <td>-0.000100</td>\n",
              "      <td>-0.005808</td>\n",
              "      <td>-0.012311</td>\n",
              "      <td>-0.004654</td>\n",
              "      <td>0.015847</td>\n",
              "      <td>0.018163</td>\n",
              "      <td>0.020015</td>\n",
              "      <td>-0.006630</td>\n",
              "      <td>-0.009685</td>\n",
              "    </tr>\n",
              "    <tr>\n",
              "      <th>hour</th>\n",
              "      <td>0.000684</td>\n",
              "      <td>1.164482e-15</td>\n",
              "      <td>4.724770e-16</td>\n",
              "      <td>-4.489555e-17</td>\n",
              "      <td>1.000000e+00</td>\n",
              "      <td>-0.001811</td>\n",
              "      <td>0.027577</td>\n",
              "      <td>-0.010605</td>\n",
              "      <td>-0.072861</td>\n",
              "      <td>-0.035569</td>\n",
              "      <td>0.283886</td>\n",
              "      <td>0.142074</td>\n",
              "      <td>-0.039070</td>\n",
              "      <td>-0.019904</td>\n",
              "      <td>0.005098</td>\n",
              "      <td>0.156576</td>\n",
              "    </tr>\n",
              "    <tr>\n",
              "      <th>PM2.5</th>\n",
              "      <td>-0.003032</td>\n",
              "      <td>-6.830761e-03</td>\n",
              "      <td>1.515112e-02</td>\n",
              "      <td>2.489494e-03</td>\n",
              "      <td>-1.811317e-03</td>\n",
              "      <td>1.000000</td>\n",
              "      <td>0.887073</td>\n",
              "      <td>0.543289</td>\n",
              "      <td>0.669870</td>\n",
              "      <td>0.766386</td>\n",
              "      <td>-0.136530</td>\n",
              "      <td>-0.137235</td>\n",
              "      <td>-0.005948</td>\n",
              "      <td>0.127810</td>\n",
              "      <td>-0.018986</td>\n",
              "      <td>-0.298772</td>\n",
              "    </tr>\n",
              "    <tr>\n",
              "      <th>PM10</th>\n",
              "      <td>0.003703</td>\n",
              "      <td>4.563120e-03</td>\n",
              "      <td>-5.910673e-03</td>\n",
              "      <td>2.355508e-02</td>\n",
              "      <td>2.757698e-02</td>\n",
              "      <td>0.887073</td>\n",
              "      <td>1.000000</td>\n",
              "      <td>0.490803</td>\n",
              "      <td>0.642986</td>\n",
              "      <td>0.692966</td>\n",
              "      <td>-0.126299</td>\n",
              "      <td>-0.132498</td>\n",
              "      <td>-0.016028</td>\n",
              "      <td>0.061771</td>\n",
              "      <td>-0.030949</td>\n",
              "      <td>-0.197368</td>\n",
              "    </tr>\n",
              "    <tr>\n",
              "      <th>SO2</th>\n",
              "      <td>-0.241270</td>\n",
              "      <td>-1.913045e-01</td>\n",
              "      <td>-1.866408e-01</td>\n",
              "      <td>-9.952747e-05</td>\n",
              "      <td>-1.060453e-02</td>\n",
              "      <td>0.543289</td>\n",
              "      <td>0.490803</td>\n",
              "      <td>1.000000</td>\n",
              "      <td>0.455444</td>\n",
              "      <td>0.555563</td>\n",
              "      <td>-0.155970</td>\n",
              "      <td>-0.334945</td>\n",
              "      <td>0.203253</td>\n",
              "      <td>-0.225489</td>\n",
              "      <td>-0.044805</td>\n",
              "      <td>-0.167501</td>\n",
              "    </tr>\n",
              "    <tr>\n",
              "      <th>NO2</th>\n",
              "      <td>-0.036219</td>\n",
              "      <td>-6.116768e-02</td>\n",
              "      <td>1.051075e-01</td>\n",
              "      <td>-5.807638e-03</td>\n",
              "      <td>-7.286124e-02</td>\n",
              "      <td>0.669870</td>\n",
              "      <td>0.642986</td>\n",
              "      <td>0.455444</td>\n",
              "      <td>1.000000</td>\n",
              "      <td>0.669621</td>\n",
              "      <td>-0.459624</td>\n",
              "      <td>-0.248547</td>\n",
              "      <td>0.086214</td>\n",
              "      <td>0.053297</td>\n",
              "      <td>-0.043095</td>\n",
              "      <td>-0.486550</td>\n",
              "    </tr>\n",
              "    <tr>\n",
              "      <th>CO</th>\n",
              "      <td>0.006691</td>\n",
              "      <td>-1.015892e-02</td>\n",
              "      <td>6.863605e-02</td>\n",
              "      <td>-1.231058e-02</td>\n",
              "      <td>-3.556921e-02</td>\n",
              "      <td>0.766386</td>\n",
              "      <td>0.692966</td>\n",
              "      <td>0.555563</td>\n",
              "      <td>0.669621</td>\n",
              "      <td>1.000000</td>\n",
              "      <td>-0.279010</td>\n",
              "      <td>-0.289216</td>\n",
              "      <td>0.125816</td>\n",
              "      <td>-0.002747</td>\n",
              "      <td>-0.012451</td>\n",
              "      <td>-0.330524</td>\n",
              "    </tr>\n",
              "    <tr>\n",
              "      <th>O3</th>\n",
              "      <td>-0.093319</td>\n",
              "      <td>-6.374890e-02</td>\n",
              "      <td>-1.124191e-01</td>\n",
              "      <td>-4.654282e-03</td>\n",
              "      <td>2.838861e-01</td>\n",
              "      <td>-0.136530</td>\n",
              "      <td>-0.126299</td>\n",
              "      <td>-0.155970</td>\n",
              "      <td>-0.459624</td>\n",
              "      <td>-0.279010</td>\n",
              "      <td>1.000000</td>\n",
              "      <td>0.575815</td>\n",
              "      <td>-0.441498</td>\n",
              "      <td>0.302395</td>\n",
              "      <td>0.016323</td>\n",
              "      <td>0.288353</td>\n",
              "    </tr>\n",
              "    <tr>\n",
              "      <th>TEMP</th>\n",
              "      <td>-0.119018</td>\n",
              "      <td>-1.487664e-01</td>\n",
              "      <td>1.325033e-01</td>\n",
              "      <td>1.584680e-02</td>\n",
              "      <td>1.420737e-01</td>\n",
              "      <td>-0.137235</td>\n",
              "      <td>-0.132498</td>\n",
              "      <td>-0.334945</td>\n",
              "      <td>-0.248547</td>\n",
              "      <td>-0.289216</td>\n",
              "      <td>0.575815</td>\n",
              "      <td>1.000000</td>\n",
              "      <td>-0.837480</td>\n",
              "      <td>0.819070</td>\n",
              "      <td>0.038660</td>\n",
              "      <td>0.048829</td>\n",
              "    </tr>\n",
              "    <tr>\n",
              "      <th>PRES</th>\n",
              "      <td>0.172835</td>\n",
              "      <td>1.735828e-01</td>\n",
              "      <td>-2.116064e-02</td>\n",
              "      <td>1.816294e-02</td>\n",
              "      <td>-3.906968e-02</td>\n",
              "      <td>-0.005948</td>\n",
              "      <td>-0.016028</td>\n",
              "      <td>0.203253</td>\n",
              "      <td>0.086214</td>\n",
              "      <td>0.125816</td>\n",
              "      <td>-0.441498</td>\n",
              "      <td>-0.837480</td>\n",
              "      <td>1.000000</td>\n",
              "      <td>-0.770305</td>\n",
              "      <td>-0.065779</td>\n",
              "      <td>0.038493</td>\n",
              "    </tr>\n",
              "    <tr>\n",
              "      <th>DEWP</th>\n",
              "      <td>-0.088817</td>\n",
              "      <td>-1.517098e-01</td>\n",
              "      <td>2.652505e-01</td>\n",
              "      <td>2.001474e-02</td>\n",
              "      <td>-1.990379e-02</td>\n",
              "      <td>0.127810</td>\n",
              "      <td>0.061771</td>\n",
              "      <td>-0.225489</td>\n",
              "      <td>0.053297</td>\n",
              "      <td>-0.002747</td>\n",
              "      <td>0.302395</td>\n",
              "      <td>0.819070</td>\n",
              "      <td>-0.770305</td>\n",
              "      <td>1.000000</td>\n",
              "      <td>0.089356</td>\n",
              "      <td>-0.278895</td>\n",
              "    </tr>\n",
              "    <tr>\n",
              "      <th>RAIN</th>\n",
              "      <td>0.008390</td>\n",
              "      <td>4.368375e-03</td>\n",
              "      <td>1.654221e-02</td>\n",
              "      <td>-6.630341e-03</td>\n",
              "      <td>5.097794e-03</td>\n",
              "      <td>-0.018986</td>\n",
              "      <td>-0.030949</td>\n",
              "      <td>-0.044805</td>\n",
              "      <td>-0.043095</td>\n",
              "      <td>-0.012451</td>\n",
              "      <td>0.016323</td>\n",
              "      <td>0.038660</td>\n",
              "      <td>-0.065779</td>\n",
              "      <td>0.089356</td>\n",
              "      <td>1.000000</td>\n",
              "      <td>0.025547</td>\n",
              "    </tr>\n",
              "    <tr>\n",
              "      <th>WSPM</th>\n",
              "      <td>-0.003582</td>\n",
              "      <td>2.764938e-02</td>\n",
              "      <td>-1.268710e-01</td>\n",
              "      <td>-9.684922e-03</td>\n",
              "      <td>1.565756e-01</td>\n",
              "      <td>-0.298772</td>\n",
              "      <td>-0.197368</td>\n",
              "      <td>-0.167501</td>\n",
              "      <td>-0.486550</td>\n",
              "      <td>-0.330524</td>\n",
              "      <td>0.288353</td>\n",
              "      <td>0.048829</td>\n",
              "      <td>0.038493</td>\n",
              "      <td>-0.278895</td>\n",
              "      <td>0.025547</td>\n",
              "      <td>1.000000</td>\n",
              "    </tr>\n",
              "  </tbody>\n",
              "</table>\n",
              "</div>"
            ],
            "text/plain": [
              "             No          year         month           day          hour  \\\n",
              "No     1.000000  9.695331e-01  4.318051e-02  1.776442e-02  6.838683e-04   \n",
              "year   0.969533  1.000000e+00 -2.020099e-01 -5.569082e-03  1.164482e-15   \n",
              "month  0.043181 -2.020099e-01  1.000000e+00  1.052232e-02  4.724770e-16   \n",
              "day    0.017764 -5.569082e-03  1.052232e-02  1.000000e+00 -4.489555e-17   \n",
              "hour   0.000684  1.164482e-15  4.724770e-16 -4.489555e-17  1.000000e+00   \n",
              "PM2.5 -0.003032 -6.830761e-03  1.515112e-02  2.489494e-03 -1.811317e-03   \n",
              "PM10   0.003703  4.563120e-03 -5.910673e-03  2.355508e-02  2.757698e-02   \n",
              "SO2   -0.241270 -1.913045e-01 -1.866408e-01 -9.952747e-05 -1.060453e-02   \n",
              "NO2   -0.036219 -6.116768e-02  1.051075e-01 -5.807638e-03 -7.286124e-02   \n",
              "CO     0.006691 -1.015892e-02  6.863605e-02 -1.231058e-02 -3.556921e-02   \n",
              "O3    -0.093319 -6.374890e-02 -1.124191e-01 -4.654282e-03  2.838861e-01   \n",
              "TEMP  -0.119018 -1.487664e-01  1.325033e-01  1.584680e-02  1.420737e-01   \n",
              "PRES   0.172835  1.735828e-01 -2.116064e-02  1.816294e-02 -3.906968e-02   \n",
              "DEWP  -0.088817 -1.517098e-01  2.652505e-01  2.001474e-02 -1.990379e-02   \n",
              "RAIN   0.008390  4.368375e-03  1.654221e-02 -6.630341e-03  5.097794e-03   \n",
              "WSPM  -0.003582  2.764938e-02 -1.268710e-01 -9.684922e-03  1.565756e-01   \n",
              "\n",
              "          PM2.5      PM10       SO2       NO2        CO        O3      TEMP  \\\n",
              "No    -0.003032  0.003703 -0.241270 -0.036219  0.006691 -0.093319 -0.119018   \n",
              "year  -0.006831  0.004563 -0.191304 -0.061168 -0.010159 -0.063749 -0.148766   \n",
              "month  0.015151 -0.005911 -0.186641  0.105107  0.068636 -0.112419  0.132503   \n",
              "day    0.002489  0.023555 -0.000100 -0.005808 -0.012311 -0.004654  0.015847   \n",
              "hour  -0.001811  0.027577 -0.010605 -0.072861 -0.035569  0.283886  0.142074   \n",
              "PM2.5  1.000000  0.887073  0.543289  0.669870  0.766386 -0.136530 -0.137235   \n",
              "PM10   0.887073  1.000000  0.490803  0.642986  0.692966 -0.126299 -0.132498   \n",
              "SO2    0.543289  0.490803  1.000000  0.455444  0.555563 -0.155970 -0.334945   \n",
              "NO2    0.669870  0.642986  0.455444  1.000000  0.669621 -0.459624 -0.248547   \n",
              "CO     0.766386  0.692966  0.555563  0.669621  1.000000 -0.279010 -0.289216   \n",
              "O3    -0.136530 -0.126299 -0.155970 -0.459624 -0.279010  1.000000  0.575815   \n",
              "TEMP  -0.137235 -0.132498 -0.334945 -0.248547 -0.289216  0.575815  1.000000   \n",
              "PRES  -0.005948 -0.016028  0.203253  0.086214  0.125816 -0.441498 -0.837480   \n",
              "DEWP   0.127810  0.061771 -0.225489  0.053297 -0.002747  0.302395  0.819070   \n",
              "RAIN  -0.018986 -0.030949 -0.044805 -0.043095 -0.012451  0.016323  0.038660   \n",
              "WSPM  -0.298772 -0.197368 -0.167501 -0.486550 -0.330524  0.288353  0.048829   \n",
              "\n",
              "           PRES      DEWP      RAIN      WSPM  \n",
              "No     0.172835 -0.088817  0.008390 -0.003582  \n",
              "year   0.173583 -0.151710  0.004368  0.027649  \n",
              "month -0.021161  0.265251  0.016542 -0.126871  \n",
              "day    0.018163  0.020015 -0.006630 -0.009685  \n",
              "hour  -0.039070 -0.019904  0.005098  0.156576  \n",
              "PM2.5 -0.005948  0.127810 -0.018986 -0.298772  \n",
              "PM10  -0.016028  0.061771 -0.030949 -0.197368  \n",
              "SO2    0.203253 -0.225489 -0.044805 -0.167501  \n",
              "NO2    0.086214  0.053297 -0.043095 -0.486550  \n",
              "CO     0.125816 -0.002747 -0.012451 -0.330524  \n",
              "O3    -0.441498  0.302395  0.016323  0.288353  \n",
              "TEMP  -0.837480  0.819070  0.038660  0.048829  \n",
              "PRES   1.000000 -0.770305 -0.065779  0.038493  \n",
              "DEWP  -0.770305  1.000000  0.089356 -0.278895  \n",
              "RAIN  -0.065779  0.089356  1.000000  0.025547  \n",
              "WSPM   0.038493 -0.278895  0.025547  1.000000  "
            ]
          },
          "execution_count": 17,
          "metadata": {},
          "output_type": "execute_result"
        }
      ],
      "source": [
        "df_filled.corr()"
      ]
    },
    {
      "cell_type": "markdown",
      "metadata": {
        "id": "w3any3lSFKAp"
      },
      "source": [
        "Membuat dataframe untuk melihat nilai NO2 perbulan pada setiap tahun"
      ]
    },
    {
      "cell_type": "markdown",
      "metadata": {
        "id": "Sk4IAsvDGQkk"
      },
      "source": [
        "1. TAHUN 2013"
      ]
    },
    {
      "cell_type": "code",
      "execution_count": 41,
      "metadata": {
        "colab": {
          "base_uri": "https://localhost:8080/",
          "height": 457
        },
        "id": "OY9Ka5UoFPcI",
        "outputId": "6f97eb78-fa79-48ba-e552-a008c70fe2e8"
      },
      "outputs": [
        {
          "data": {
            "text/html": [
              "<div>\n",
              "<style scoped>\n",
              "    .dataframe tbody tr th:only-of-type {\n",
              "        vertical-align: middle;\n",
              "    }\n",
              "\n",
              "    .dataframe tbody tr th {\n",
              "        vertical-align: top;\n",
              "    }\n",
              "\n",
              "    .dataframe thead th {\n",
              "        text-align: right;\n",
              "    }\n",
              "</style>\n",
              "<table border=\"1\" class=\"dataframe\">\n",
              "  <thead>\n",
              "    <tr style=\"text-align: right;\">\n",
              "      <th></th>\n",
              "      <th>NO2</th>\n",
              "    </tr>\n",
              "    <tr>\n",
              "      <th>month</th>\n",
              "      <th></th>\n",
              "    </tr>\n",
              "  </thead>\n",
              "  <tbody>\n",
              "    <tr>\n",
              "      <th>4</th>\n",
              "      <td>44.055773</td>\n",
              "    </tr>\n",
              "    <tr>\n",
              "      <th>8</th>\n",
              "      <td>45.085498</td>\n",
              "    </tr>\n",
              "    <tr>\n",
              "      <th>7</th>\n",
              "      <td>47.695626</td>\n",
              "    </tr>\n",
              "    <tr>\n",
              "      <th>5</th>\n",
              "      <td>52.171235</td>\n",
              "    </tr>\n",
              "    <tr>\n",
              "      <th>6</th>\n",
              "      <td>56.050290</td>\n",
              "    </tr>\n",
              "    <tr>\n",
              "      <th>11</th>\n",
              "      <td>59.895833</td>\n",
              "    </tr>\n",
              "    <tr>\n",
              "      <th>9</th>\n",
              "      <td>59.992778</td>\n",
              "    </tr>\n",
              "    <tr>\n",
              "      <th>12</th>\n",
              "      <td>61.905288</td>\n",
              "    </tr>\n",
              "    <tr>\n",
              "      <th>10</th>\n",
              "      <td>72.051893</td>\n",
              "    </tr>\n",
              "    <tr>\n",
              "      <th>3</th>\n",
              "      <td>76.748429</td>\n",
              "    </tr>\n",
              "  </tbody>\n",
              "</table>\n",
              "</div>"
            ],
            "text/plain": [
              "             NO2\n",
              "month           \n",
              "4      44.055773\n",
              "8      45.085498\n",
              "7      47.695626\n",
              "5      52.171235\n",
              "6      56.050290\n",
              "11     59.895833\n",
              "9      59.992778\n",
              "12     61.905288\n",
              "10     72.051893\n",
              "3      76.748429"
            ]
          },
          "execution_count": 41,
          "metadata": {},
          "output_type": "execute_result"
        }
      ],
      "source": [
        "def create_NO2_tabel(dataset, tahun):\n",
        "    NO2_per_tahun = dataset[dataset['year'] == tahun]\n",
        "    NO2_tabel = NO2_per_tahun[['NO2','month']].groupby(['month']).mean()\n",
        "    return NO2_tabel\n",
        "\n",
        "# Call the function with the `df_filled` dataset and the year 2013\n",
        "NO2_tabel_2013 = create_NO2_tabel(df_filled, 2013)\n",
        "NO2_tabel_2013.sort_values(by=\"NO2\")"
      ]
    },
    {
      "cell_type": "markdown",
      "metadata": {
        "id": "67zzrTqEGoDB"
      },
      "source": [
        "2. TAHUN 2014"
      ]
    },
    {
      "cell_type": "code",
      "execution_count": 48,
      "metadata": {
        "colab": {
          "base_uri": "https://localhost:8080/",
          "height": 457
        },
        "id": "-ewo9mb2Gpex",
        "outputId": "f8f400b6-85d5-444f-c579-a1cf365f7309"
      },
      "outputs": [
        {
          "data": {
            "text/html": [
              "<div>\n",
              "<style scoped>\n",
              "    .dataframe tbody tr th:only-of-type {\n",
              "        vertical-align: middle;\n",
              "    }\n",
              "\n",
              "    .dataframe tbody tr th {\n",
              "        vertical-align: top;\n",
              "    }\n",
              "\n",
              "    .dataframe thead th {\n",
              "        text-align: right;\n",
              "    }\n",
              "</style>\n",
              "<table border=\"1\" class=\"dataframe\">\n",
              "  <thead>\n",
              "    <tr style=\"text-align: right;\">\n",
              "      <th></th>\n",
              "      <th>NO2</th>\n",
              "    </tr>\n",
              "    <tr>\n",
              "      <th>month</th>\n",
              "      <th></th>\n",
              "    </tr>\n",
              "  </thead>\n",
              "  <tbody>\n",
              "    <tr>\n",
              "      <th>7</th>\n",
              "      <td>43.294487</td>\n",
              "    </tr>\n",
              "    <tr>\n",
              "      <th>5</th>\n",
              "      <td>47.447803</td>\n",
              "    </tr>\n",
              "    <tr>\n",
              "      <th>6</th>\n",
              "      <td>47.468427</td>\n",
              "    </tr>\n",
              "    <tr>\n",
              "      <th>8</th>\n",
              "      <td>47.756719</td>\n",
              "    </tr>\n",
              "    <tr>\n",
              "      <th>12</th>\n",
              "      <td>50.865302</td>\n",
              "    </tr>\n",
              "    <tr>\n",
              "      <th>2</th>\n",
              "      <td>54.072265</td>\n",
              "    </tr>\n",
              "    <tr>\n",
              "      <th>4</th>\n",
              "      <td>55.747776</td>\n",
              "    </tr>\n",
              "    <tr>\n",
              "      <th>9</th>\n",
              "      <td>55.838611</td>\n",
              "    </tr>\n",
              "    <tr>\n",
              "      <th>1</th>\n",
              "      <td>60.610387</td>\n",
              "    </tr>\n",
              "    <tr>\n",
              "      <th>3</th>\n",
              "      <td>61.084810</td>\n",
              "    </tr>\n",
              "    <tr>\n",
              "      <th>11</th>\n",
              "      <td>64.785275</td>\n",
              "    </tr>\n",
              "    <tr>\n",
              "      <th>10</th>\n",
              "      <td>77.917203</td>\n",
              "    </tr>\n",
              "  </tbody>\n",
              "</table>\n",
              "</div>"
            ],
            "text/plain": [
              "             NO2\n",
              "month           \n",
              "7      43.294487\n",
              "5      47.447803\n",
              "6      47.468427\n",
              "8      47.756719\n",
              "12     50.865302\n",
              "2      54.072265\n",
              "4      55.747776\n",
              "9      55.838611\n",
              "1      60.610387\n",
              "3      61.084810\n",
              "11     64.785275\n",
              "10     77.917203"
            ]
          },
          "execution_count": 48,
          "metadata": {},
          "output_type": "execute_result"
        }
      ],
      "source": [
        "NO2_tabel_2014 = create_NO2_tabel(df_filled, 2014)\n",
        "NO2_tabel_2014.sort_values(by=\"NO2\")"
      ]
    },
    {
      "cell_type": "markdown",
      "metadata": {
        "id": "Z0UdEM2eGujh"
      },
      "source": [
        "3. TAHUN 2015"
      ]
    },
    {
      "cell_type": "code",
      "execution_count": 49,
      "metadata": {
        "colab": {
          "base_uri": "https://localhost:8080/",
          "height": 835
        },
        "id": "bEPb0BUVGwk6",
        "outputId": "f184d28d-a98e-4efd-d1bf-d19202f44474"
      },
      "outputs": [
        {
          "data": {
            "text/html": [
              "<div>\n",
              "<style scoped>\n",
              "    .dataframe tbody tr th:only-of-type {\n",
              "        vertical-align: middle;\n",
              "    }\n",
              "\n",
              "    .dataframe tbody tr th {\n",
              "        vertical-align: top;\n",
              "    }\n",
              "\n",
              "    .dataframe thead th {\n",
              "        text-align: right;\n",
              "    }\n",
              "</style>\n",
              "<table border=\"1\" class=\"dataframe\">\n",
              "  <thead>\n",
              "    <tr style=\"text-align: right;\">\n",
              "      <th></th>\n",
              "      <th>NO2</th>\n",
              "    </tr>\n",
              "    <tr>\n",
              "      <th>month</th>\n",
              "      <th></th>\n",
              "    </tr>\n",
              "  </thead>\n",
              "  <tbody>\n",
              "    <tr>\n",
              "      <th>8</th>\n",
              "      <td>33.168275</td>\n",
              "    </tr>\n",
              "    <tr>\n",
              "      <th>7</th>\n",
              "      <td>37.900134</td>\n",
              "    </tr>\n",
              "    <tr>\n",
              "      <th>6</th>\n",
              "      <td>39.269854</td>\n",
              "    </tr>\n",
              "    <tr>\n",
              "      <th>5</th>\n",
              "      <td>39.874192</td>\n",
              "    </tr>\n",
              "    <tr>\n",
              "      <th>4</th>\n",
              "      <td>45.247078</td>\n",
              "    </tr>\n",
              "    <tr>\n",
              "      <th>9</th>\n",
              "      <td>48.251654</td>\n",
              "    </tr>\n",
              "    <tr>\n",
              "      <th>2</th>\n",
              "      <td>50.856395</td>\n",
              "    </tr>\n",
              "    <tr>\n",
              "      <th>3</th>\n",
              "      <td>51.937629</td>\n",
              "    </tr>\n",
              "    <tr>\n",
              "      <th>10</th>\n",
              "      <td>58.762361</td>\n",
              "    </tr>\n",
              "    <tr>\n",
              "      <th>11</th>\n",
              "      <td>61.811938</td>\n",
              "    </tr>\n",
              "    <tr>\n",
              "      <th>1</th>\n",
              "      <td>64.248250</td>\n",
              "    </tr>\n",
              "    <tr>\n",
              "      <th>12</th>\n",
              "      <td>72.968946</td>\n",
              "    </tr>\n",
              "  </tbody>\n",
              "</table>\n",
              "</div>"
            ],
            "text/plain": [
              "             NO2\n",
              "month           \n",
              "8      33.168275\n",
              "7      37.900134\n",
              "6      39.269854\n",
              "5      39.874192\n",
              "4      45.247078\n",
              "9      48.251654\n",
              "2      50.856395\n",
              "3      51.937629\n",
              "10     58.762361\n",
              "11     61.811938\n",
              "1      64.248250\n",
              "12     72.968946"
            ]
          },
          "execution_count": 49,
          "metadata": {},
          "output_type": "execute_result"
        }
      ],
      "source": [
        "NO2_tabel_2015 = create_NO2_tabel(df_filled, 2015)\n",
        "NO2_tabel_2015.sort_values(by=\"NO2\")"
      ]
    },
    {
      "cell_type": "markdown",
      "metadata": {
        "id": "4xObOHsIG3Hj"
      },
      "source": [
        "4. TAHUN 2016"
      ]
    },
    {
      "cell_type": "code",
      "execution_count": 50,
      "metadata": {
        "colab": {
          "base_uri": "https://localhost:8080/",
          "height": 457
        },
        "id": "g9fnbknjGWeE",
        "outputId": "822367ee-9f0d-4791-b587-ec7d3812f9ff"
      },
      "outputs": [
        {
          "data": {
            "text/html": [
              "<div>\n",
              "<style scoped>\n",
              "    .dataframe tbody tr th:only-of-type {\n",
              "        vertical-align: middle;\n",
              "    }\n",
              "\n",
              "    .dataframe tbody tr th {\n",
              "        vertical-align: top;\n",
              "    }\n",
              "\n",
              "    .dataframe thead th {\n",
              "        text-align: right;\n",
              "    }\n",
              "</style>\n",
              "<table border=\"1\" class=\"dataframe\">\n",
              "  <thead>\n",
              "    <tr style=\"text-align: right;\">\n",
              "      <th></th>\n",
              "      <th>NO2</th>\n",
              "    </tr>\n",
              "    <tr>\n",
              "      <th>month</th>\n",
              "      <th></th>\n",
              "    </tr>\n",
              "  </thead>\n",
              "  <tbody>\n",
              "    <tr>\n",
              "      <th>2</th>\n",
              "      <td>34.124278</td>\n",
              "    </tr>\n",
              "    <tr>\n",
              "      <th>7</th>\n",
              "      <td>38.326002</td>\n",
              "    </tr>\n",
              "    <tr>\n",
              "      <th>8</th>\n",
              "      <td>39.822713</td>\n",
              "    </tr>\n",
              "    <tr>\n",
              "      <th>6</th>\n",
              "      <td>40.482725</td>\n",
              "    </tr>\n",
              "    <tr>\n",
              "      <th>5</th>\n",
              "      <td>42.034388</td>\n",
              "    </tr>\n",
              "    <tr>\n",
              "      <th>4</th>\n",
              "      <td>44.166788</td>\n",
              "    </tr>\n",
              "    <tr>\n",
              "      <th>1</th>\n",
              "      <td>49.813172</td>\n",
              "    </tr>\n",
              "    <tr>\n",
              "      <th>9</th>\n",
              "      <td>51.278726</td>\n",
              "    </tr>\n",
              "    <tr>\n",
              "      <th>3</th>\n",
              "      <td>56.955895</td>\n",
              "    </tr>\n",
              "    <tr>\n",
              "      <th>10</th>\n",
              "      <td>64.549444</td>\n",
              "    </tr>\n",
              "    <tr>\n",
              "      <th>11</th>\n",
              "      <td>70.190968</td>\n",
              "    </tr>\n",
              "    <tr>\n",
              "      <th>12</th>\n",
              "      <td>81.558060</td>\n",
              "    </tr>\n",
              "  </tbody>\n",
              "</table>\n",
              "</div>"
            ],
            "text/plain": [
              "             NO2\n",
              "month           \n",
              "2      34.124278\n",
              "7      38.326002\n",
              "8      39.822713\n",
              "6      40.482725\n",
              "5      42.034388\n",
              "4      44.166788\n",
              "1      49.813172\n",
              "9      51.278726\n",
              "3      56.955895\n",
              "10     64.549444\n",
              "11     70.190968\n",
              "12     81.558060"
            ]
          },
          "execution_count": 50,
          "metadata": {},
          "output_type": "execute_result"
        }
      ],
      "source": [
        "NO2_tabel_2016 = create_NO2_tabel(df_filled, 2016)\n",
        "NO2_tabel_2016.sort_values(by=\"NO2\")"
      ]
    },
    {
      "cell_type": "markdown",
      "metadata": {
        "id": "_ID7OW3PG80D"
      },
      "source": [
        "5. TAHUN 2017"
      ]
    },
    {
      "cell_type": "code",
      "execution_count": 51,
      "metadata": {
        "colab": {
          "base_uri": "https://localhost:8080/",
          "height": 457
        },
        "id": "eYBHym5eG-JT",
        "outputId": "ec9b3ef0-8bc2-4d7a-a537-6aa77aaa4161"
      },
      "outputs": [
        {
          "data": {
            "text/html": [
              "<div>\n",
              "<style scoped>\n",
              "    .dataframe tbody tr th:only-of-type {\n",
              "        vertical-align: middle;\n",
              "    }\n",
              "\n",
              "    .dataframe tbody tr th {\n",
              "        vertical-align: top;\n",
              "    }\n",
              "\n",
              "    .dataframe thead th {\n",
              "        text-align: right;\n",
              "    }\n",
              "</style>\n",
              "<table border=\"1\" class=\"dataframe\">\n",
              "  <thead>\n",
              "    <tr style=\"text-align: right;\">\n",
              "      <th></th>\n",
              "      <th>NO2</th>\n",
              "    </tr>\n",
              "    <tr>\n",
              "      <th>month</th>\n",
              "      <th></th>\n",
              "    </tr>\n",
              "  </thead>\n",
              "  <tbody>\n",
              "    <tr>\n",
              "      <th>2</th>\n",
              "      <td>51.477516</td>\n",
              "    </tr>\n",
              "    <tr>\n",
              "      <th>1</th>\n",
              "      <td>63.764381</td>\n",
              "    </tr>\n",
              "  </tbody>\n",
              "</table>\n",
              "</div>"
            ],
            "text/plain": [
              "             NO2\n",
              "month           \n",
              "2      51.477516\n",
              "1      63.764381"
            ]
          },
          "execution_count": 51,
          "metadata": {},
          "output_type": "execute_result"
        }
      ],
      "source": [
        "NO2_tabel_2017 = create_NO2_tabel(df_filled, 2017)\n",
        "NO2_tabel_2017.sort_values(by=\"NO2\")"
      ]
    },
    {
      "cell_type": "markdown",
      "metadata": {
        "id": "zsyZjqak8DC2"
      },
      "source": [
        "## Visualization & Explanatory Analysis"
      ]
    },
    {
      "cell_type": "markdown",
      "metadata": {
        "id": "HZxOiQ6n8DC2"
      },
      "source": [
        "### Pertanyaan 1: PT Diva Jaya sedang mempertimbangkan untuk meluncurkan produk baru yang bisa memabntu mengurangi tingginya polusi udara. Mereka ingin memahami pola kualitas udara dan distribusi polutan udara selama beberapa tahun terakhir untuk menentukan waktu yang tepat untuk peluncuran produk baru mereka. Kapan waktu yang tepat untuk peluncuran produk baru berdasarkan analisis tren polusi udara di setiap tahunnya?"
      ]
    },
    {
      "cell_type": "code",
      "execution_count": 66,
      "metadata": {
        "colab": {
          "base_uri": "https://localhost:8080/",
          "height": 1000
        },
        "id": "1swJUdAD8DC2",
        "outputId": "66cd86b2-1427-4cdf-c795-977a6d20d759"
      },
      "outputs": [
        {
          "name": "stderr",
          "output_type": "stream",
          "text": [
            "<ipython-input-66-0efe604859bc>:6: FutureWarning: The default value of numeric_only in DataFrameGroupBy.mean is deprecated. In a future version, numeric_only will default to False. Either specify numeric_only or select only columns which should be valid for the function.\n",
            "  df_monthly_mean = df_filled.groupby([df_filled.index.year, df_filled.index.month]).mean()\n"
          ]
        },
        {
          "data": {
            "image/png": "[encoded data removed]",
            "text/plain": [
              "<Figure size 1000x600 with 1 Axes>"
            ]
          },
          "metadata": {},
          "output_type": "display_data"
        },
        {
          "data": {
            "image/png": "[encoded data removed]",
            "text/plain": [
              "<Figure size 1000x600 with 1 Axes>"
            ]
          },
          "metadata": {},
          "output_type": "display_data"
        },
        {
          "data": {
            "image/png": "[encoded data removed]",
            "text/plain": [
              "<Figure size 1000x600 with 1 Axes>"
            ]
          },
          "metadata": {},
          "output_type": "display_data"
        },
        {
          "data": {
            "image/png": "[encoded data removed]",
            "text/plain": [
              "<Figure size 1000x600 with 1 Axes>"
            ]
          },
          "metadata": {},
          "output_type": "display_data"
        },
        {
          "data": {
            "image/png": "[encoded data removed]",
            "text/plain": [
              "<Figure size 1000x600 with 1 Axes>"
            ]
          },
          "metadata": {},
          "output_type": "display_data"
        }
      ],
      "source": [
        "# Mengonversi kolom tanggal menjadi indeks datetime\n",
        "df_filled['datetime'] = pd.to_datetime(df_filled[['year', 'month', 'day']])\n",
        "df_filled.set_index('datetime', inplace=True)\n",
        "\n",
        "# Menghitung rata-rata PM2.5 per bulan untuk setiap tahun\n",
        "df_monthly_mean = df_filled.groupby([df_filled.index.year, df_filled.index.month]).mean()\n",
        "\n",
        "# Membuat plot untuk setiap tahun\n",
        "unique_years = df_filled.index.year.unique()\n",
        "\n",
        "for year in unique_years:\n",
        "    df_year = df_monthly_mean.loc[year]\n",
        "    plt.figure(figsize=(10, 6))\n",
        "    plt.plot(df_year.index.get_level_values(0), df_year['PM2.5'], marker='o', linestyle='-')\n",
        "    plt.title(f'Rata-rata PM2.5 per Bulan Tahun {year}')\n",
        "    plt.xlabel('Bulan')\n",
        "    plt.ylabel('Rata-rata PM2.5')\n",
        "    plt.xticks(range(1, 13), ['Jan', 'Feb', 'Mar', 'Apr', 'May', 'Jun', 'Jul', 'Aug', 'Sep', 'Oct', 'Nov', 'Dec'])\n",
        "    plt.grid(True)\n",
        "    plt.tight_layout()\n",
        "    plt.show()"
      ]
    },
    {
      "cell_type": "markdown",
      "metadata": {
        "id": "DgHI7CiU8DC2"
      },
      "source": [
        "### Pertanyaan 2: Dalam menentukan waktu peluncuran juga dibutuhkan informasi mengenai tingkat NO2 di udara karena produk yang akan diluncurkan sangat berhubungan denghan itu. Sehingga dibutuhkan informasi Pada bulan apa saja kadar NO2 memiliki kadar tinggi di tahun 2015?"
      ]
    },
    {
      "cell_type": "code",
      "execution_count": 52,
      "metadata": {
        "colab": {
          "base_uri": "https://localhost:8080/",
          "height": 391
        },
        "id": "KdtWYfEdsinn",
        "outputId": "aece8378-12e6-41f1-ec2b-4be49cc94841"
      },
      "outputs": [
        {
          "data": {
            "text/plain": [
              "(0.0, 13.0)"
            ]
          },
          "execution_count": 52,
          "metadata": {},
          "output_type": "execute_result"
        },
        {
          "data": {
            "image/png": "[encoded data removed]",
            "text/plain": [
              "<Figure size 1000x500 with 1 Axes>"
            ]
          },
          "metadata": {},
          "output_type": "display_data"
        }
      ],
      "source": [
        "plt.figure(figsize=(10,5))\n",
        "plt.plot(NO2_tabel_2015, color = \"#40679E\")\n",
        "plt.title(\"Mean of Number of NO2 per Month in 2015\", loc = 'center', fontsize = 18)\n",
        "plt.xlabel(\"day\")\n",
        "plt.ylabel(\"NO2\")\n",
        "plt.style.use('ggplot')\n",
        "plt.xlim(0,13)"
      ]
    },
    {
      "cell_type": "markdown",
      "metadata": {
        "id": "_WeHlCeX8DC2"
      },
      "source": [
        "## Conclusion"
      ]
    },
    {
      "cell_type": "markdown",
      "metadata": {
        "id": "ce9ri20hBwLk"
      },
      "source": [
        "### Conclution pertanyaan 1"
      ]
    },
    {
      "cell_type": "markdown",
      "metadata": {
        "id": "UUZzDsxsB0nK"
      },
      "source": [
        "Dari plot di atas, dapat diamati bahwa tren PM2.5 berbeda-beda setiap bulan di tiap tahunnya. Pada tahun 2015, cenderung memiliki tren yang fluktuatif sehingga waktu ini tidak disarankan untuk meluncurkan produk. Sedangkan pada tahun 2015 dan 2016 terdapat tren naik di akhir tahun sehingga kedua tahun ini bisa dijadikan waktu yang tepat untuk meluncurkan produk tersebut. Terakhir, pada tahun 2017 cenderung memiliki tren penurunan sehingga tidak disarankan pula untuk meluncurkan produk pada tahun ini"
      ]
    },
    {
      "cell_type": "markdown",
      "metadata": {
        "id": "ZTcyR48Y8DC2"
      },
      "source": [
        "###Conclution pertanyaan 2"
      ]
    },
    {
      "cell_type": "markdown",
      "metadata": {
        "id": "9O4LVBgyxzow"
      },
      "source": [
        "Pada tahun 2015 dan 2016 sebelumnya telah direkomendasikan untuk meluncurkan produk pada tahun ini. Akan tetapi, perusahaan hanya bisa meluncurkan produk di satu tahun saja. Terlihat bahwa tahun 2015 memiliki kadar NO2 lebih tinggi daripada tahun 2016 sehingga 2015 lebih disarankan daripada 2016. Pada tahun 2015 memiliki kadar NO2 yang semakin tinggi menjelang akhir tahun. Oleh karena itu, peluncuran produk disarankan pada pertengahan tahun hingga akhir tahun 2015."
      ]
    }
  ],
  "metadata": {
    "colab": {
      "provenance": []
    },
    "kernelspec": {
      "display_name": "Python 3",
      "language": "python",
      "name": "python3"
    },
    "language_info": {
      "codemirror_mode": {
        "name": "ipython",
        "version": 3
      },
      "file_extension": ".py",
      "mimetype": "text/x-python",
      "name": "python",
      "nbconvert_exporter": "python",
      "pygments_lexer": "ipython3",
      "version": "3.10.9"
    },
    "orig_nbformat": 4,
    "vscode": {
      "interpreter": {
        "hash": "972b3bf27e332e87b5379f2791f6ef9dfc79c71018c370b0d7423235e20fe4d7"
      }
    }
  },
  "nbformat": 4,
  "nbformat_minor": 0
}
